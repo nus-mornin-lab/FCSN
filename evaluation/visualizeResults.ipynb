{
 "cells": [
  {
   "cell_type": "code",
   "execution_count": 1,
   "metadata": {},
   "outputs": [],
   "source": [
    "import sys, os\n",
    "from glob import glob\n",
    "\n",
    "sys.path.append('..')\n",
    "\n",
    "from tqdm import tqdm\n",
    "from argparse import ArgumentParser\n",
    "from easydict import EasyDict\n",
    "from addict import Dict\n",
    "\n",
    "from toolz import *\n",
    "from toolz.curried import *\n",
    "from itertools import islice, product\n",
    "\n",
    "import numpy as np\n",
    "import torch\n",
    "import torchvision\n",
    "import torch.nn.functional as F\n",
    "\n",
    "from data.dataLoader import MakeDataLoader\n",
    "\n",
    "from model.FFTNet import FFTNet\n",
    "from model.FFTNet import FFTNet_DSNT\n",
    "from model.UNet import UNet\n",
    "from model.DeepLab import DeepLab \n",
    "from model.TRANS import TRANS \n",
    "\n",
    "from utils import GET_OPTIMIZER\n",
    "from torchmetrics.functional import dice_score \n",
    "\n",
    "from visualisation.Visualization2 import visualisation\n",
    "from scipy.spatial.distance import directed_hausdorff\n",
    "\n",
    "import skimage\n",
    "\n",
    "import matplotlib\n",
    "import matplotlib.pyplot as plt"
   ]
  },
  {
   "cell_type": "code",
   "execution_count": 2,
   "metadata": {},
   "outputs": [],
   "source": [
    "def evaluate(net, dataloader, vis, config) :\n",
    "    \n",
    "    dice = 0\n",
    "    haus = 0\n",
    "    net.eval()        \n",
    "    for (x, y, _) in tqdm(dataloader):\n",
    "\n",
    "        _, logit = validStep(x.type(torch.float32).cuda(),\n",
    "                             y.type(torch.float32).cuda(),\n",
    "                             net)\n",
    "\n",
    "        logit  = logit.detach().cpu().squeeze()\n",
    "        target = y.detach().cpu().squeeze()\n",
    "\n",
    "        if \"FFT\" in config.model :                \n",
    "            pred = vis.draw_polygon(vis.get_contour(vis.pad_FFTs(logit))).type(torch.long)\n",
    "            mask = vis.draw_polygon(vis.get_contour(target)).type(torch.long)\n",
    "\n",
    "        else :                \n",
    "            pred = logit.argmax(0).type(torch.long)\n",
    "            mask = target.type(torch.long)\n",
    "\n",
    "        metrics = getMetric(pred, mask)\n",
    "\n",
    "        dice += metrics['dice']\n",
    "        haus += metrics['haus']\n",
    "\n",
    "    dice = round(dice / len(dataloader), 3)\n",
    "    haus = round(haus / len(dataloader), 3)\n",
    "        \n",
    "    return dice, haus\n",
    "        \n",
    "        \n",
    "@torch.no_grad()\n",
    "def validStep(x, y, net):\n",
    "    \n",
    "    outputs = net(x)\n",
    "    \n",
    "    loss = net.getLoss(outputs, y)\n",
    "    \n",
    "    return loss, outputs['logit']\n",
    "    \n",
    "def getMetric(pred, mask):\n",
    "    \n",
    "    dice_score = lambda pred, mask : torch.sum(pred[mask==1])*2.0 / (torch.sum(pred) + torch.sum(mask))     \n",
    "    \n",
    "    dice = np.array(dice_score(pred.view(-1), mask.view(-1)))\n",
    "\n",
    "    mask_ind = np.nonzero(mask.detach().cpu().numpy())\n",
    "    mask_ind = np.stack(mask_ind, axis=1)\n",
    "\n",
    "    pred_ind = np.nonzero(pred.detach().cpu().numpy())\n",
    "    pred_ind = np.stack(pred_ind, axis=1)\n",
    "\n",
    "    if len(mask_ind) == 0 or len(pred_ind) == 0:\n",
    "        if len(pred_ind) == 0 and len(pred_ind) == 0:\n",
    "            hausdorff = 0\n",
    "        else:\n",
    "            hausdorff = 256*np.sqrt(2)\n",
    "    else:\n",
    "        hausdorff_m2p, hausdorff_p2m = directed_hausdorff(mask_ind, pred_ind)[0], directed_hausdorff(pred_ind, mask_ind)[0]\n",
    "        hausdorff = max(hausdorff_m2p, hausdorff_p2m)\n",
    "\n",
    "    return {'dice' : dice,\n",
    "            'haus' : hausdorff}"
   ]
  },
  {
   "cell_type": "code",
   "execution_count": 3,
   "metadata": {},
   "outputs": [],
   "source": [
    "def parse(task, model, modelName, encoderName, fold):\n",
    "\n",
    "    parser = ArgumentParser()\n",
    "\n",
    "    parser.add_argument(\"--dataPath\", type=str, default=\"../data/datasets\")\n",
    "    parser.add_argument(\"--logPath\", type=str, default=\"../log\")\n",
    "    parser.add_argument(\"--ckptPath\", type=str, default=\"../ckpt\")\n",
    "    parser.add_argument(\"--visPath\", type=str, default=\"../vis\")\n",
    "    \n",
    "    # training related    \n",
    "    parser.add_argument(\"--augType\", type=str, default=\"aug0\", help = \"aug0 | aug1\")\n",
    "    \n",
    "    # hyprer parameter\n",
    "    parser.add_argument(\"--inputSize\", type=int, default=256)    \n",
    "    parser.add_argument(\"--batchN\", type=int, default=8)\n",
    "    parser.add_argument(\"--epochN\", type=int, default=500)\n",
    "    parser.add_argument(\"--optimizer\", type=str, default=\"Adam\")\n",
    "    parser.add_argument(\"--lr\", type=float, default= 3e-4)\n",
    "    parser.add_argument(\"--weight_decay\", type=float, default= 0)\n",
    "    \n",
    "    #hardware\n",
    "    parser.add_argument(\"--cpuN\", type=int, default=4)\n",
    "    parser.add_argument(\"--gpuN\", type=int, default=1, help = \"0|1|2|3\")\n",
    "\n",
    "    config = first(parser.parse_known_args())\n",
    "    \n",
    "    config.task       = task\n",
    "    config.model      = model\n",
    "    config.modelName  = modelName\n",
    "    config.encoderName = encoderName\n",
    "    config.fold       = fold\n",
    "    \n",
    "    # pick a gpu that has the largest space\n",
    "    os.environ[\"CUDA_DEVICE_ORDER\"]    = \"PCI_BUS_ID\"\n",
    "    os.environ['CUDA_LAUNCH_BLOCKING'] = \"3\"\n",
    "    os.environ[\"CUDA_VISIBLE_DEVICES\"] = str(config.gpuN)\n",
    "    \n",
    "    if config.model == \"FFTNet\":        \n",
    "        config.learnSize   = 21\n",
    "        config.codeSize    = 71        \n",
    "        net = FFTNet.NETS(config.encoderName, config.inputSize, config.learnSize)\n",
    "\n",
    "    if config.model == \"FFTDSNTNet\":        \n",
    "        config.learnSize   = 21\n",
    "        config.codeSize    = 71\n",
    "        config.cov         = 0.1\n",
    "        net = FFTNet_DSNT.NETS(config.encoderName, config.inputSize, config.learnSize, cov = config.cov)        \n",
    "        \n",
    "    if config.model == \"UNet\":        \n",
    "        net = UNet.NETS(modelName = config.modelName)\n",
    "        \n",
    "    if \"DeepLab\" in config.model:\n",
    "        net = DeepLab.NETS(modelName = config.modelName, encoderName = \"resnet50\", outputStride = 8)\n",
    "        \n",
    "    if config.model == \"TRANS\":\n",
    "        net = TRANS.NETS()                \n",
    "        \n",
    "    return config, net"
   ]
  },
  {
   "cell_type": "code",
   "execution_count": 4,
   "metadata": {},
   "outputs": [],
   "source": [
    "# FOR UNet and DeepLab and TRANS\n",
    "################################################################################\n",
    "baselinesISIC     = compose(list, product)([\"ISIC\"],\n",
    "                                           [\"UNet\", \"DeepLab\", \"DeepLab_lovasz\", \"TRANS\"],\n",
    "                                           [\"standard\", \"plus\"], \n",
    "                                           [\"ignore\"],\n",
    "                                           [\"0\", \"1\", \"2\", \"3\", \"4\"])\n",
    "\n",
    "baselinesDISC     = compose(list, product)([\"RIM_DISC\"],\n",
    "                                           [\"UNet\", \"DeepLab\", \"DeepLab_lovasz\", \"TRANS\"],\n",
    "                                           [\"standard\", \"plus\"], \n",
    "                                           [\"ignore\"],\n",
    "                                           [\"0\"])\n",
    "\n",
    "baselinesCUP      = compose(list, product)([\"RIM_CUP\"],\n",
    "                                           [\"UNet\", \"DeepLab\", \"DeepLab_lovasz\", \"TRANS\"],\n",
    "                                           [\"standard\", \"plus\"], \n",
    "                                           [\"ignore\"],\n",
    "                                           [\"0\"])\n",
    "\n",
    "baselinesFETAL    = compose(list, product)([\"FETAL\"],\n",
    "                                           [\"UNet\", \"DeepLab\", \"DeepLab_lovasz\", \"TRANS\"],\n",
    "                                           [\"standard\", \"plus\"], \n",
    "                                           [\"ignore\"],\n",
    "                                           [\"0\", \"1\", \"2\", \"3\", \"4\"])\n",
    "\n",
    "baselinesPROSTATE = compose(list, product)([\"PROSTATE\"],\n",
    "                                           [\"UNet\", \"DeepLab\",\"DeepLab_lovasz\", \"TRANS\"],\n",
    "                                           [\"standard\", \"plus\"], \n",
    "                                           [\"ignore\"],\n",
    "                                           [\"0\", \"1\", \"2\", \"3\", \"4\"])\n",
    "\n",
    "# FOR FFTDSNTNet\n",
    "################################################################################\n",
    "proposalsISIC     = compose(list, product)([\"ISIC\"],\n",
    "                                           [\"FFTDSNTNet\"],\n",
    "                                           [\"ignore\"],\n",
    "                                           [\"ResNet\", \"DResNet50\", \"DResNet26\", \"DResNet105\"],\n",
    "                                           [\"0\", \"1\", \"2\", \"3\", \"4\"])\n",
    "\n",
    "proposalsDISC     = compose(list, product)([\"RIM_DISC\"],\n",
    "                                           [\"FFTDSNTNet\"],\n",
    "                                           [\"ignore\"], \n",
    "                                           [\"ResNet\", \"DResNet26\", \"DResNet50\", \"DResNet105\"],\n",
    "                                           [\"0\"])\n",
    "\n",
    "proposalsCUP      = compose(list, product)([\"RIM_CUP\"],\n",
    "                                           [\"FFTDSNTNet\"],\n",
    "                                           [\"ignore\"],\n",
    "                                           [\"ResNet\", \"DResNet26\", \"DResNet50\", \"DResNet105\"],\n",
    "                                           [\"0\"])\n",
    "\n",
    "proposalsFETAL    = compose(list, product)([\"FETAL\"],\n",
    "                                           [\"FFTDSNTNet\"],\n",
    "                                           [\"ignore\"], \n",
    "                                           [\"ResNet\", \"DResNet26\", \"DResNet50\", \"DResNet105\"],\n",
    "                                           [\"0\", \"1\", \"2\", \"3\", \"4\"])\n",
    "\n",
    "proposalsPROSTATE = compose(list, product)([\"PROSTATE\"],\n",
    "                                           [\"FFTDSNTNet\"],\n",
    "                                           [\"ignore\"], \n",
    "                                           [\"ResNet\", \"DResNet26\", \"DResNet50\", \"DResNet105\"],\n",
    "                                           [\"0\", \"1\", \"2\", \"3\", \"4\"])\n",
    "\n",
    "# merge the two\n",
    "################################################################################\n",
    "instances = compose(list, concat)([proposalsISIC, proposalsDISC, proposalsCUP, proposalsFETAL, proposalsPROSTATE,\n",
    "                                   baselinesISIC, baselinesDISC, baselinesCUP, baselinesFETAL, baselinesPROSTATE])"
   ]
  },
  {
   "cell_type": "code",
   "execution_count": 13,
   "metadata": {},
   "outputs": [
    {
     "name": "stdout",
     "output_type": "stream",
     "text": [
      "#####(FFTDSNTNet,ignore,ResNet,0,ISIC)#####\n",
      "[ 0.883 18.857]\n",
      "#####(FFTDSNTNet,ignore,ResNet,1,ISIC)#####\n",
      "[ 0.875 21.137]\n",
      "#####(FFTDSNTNet,ignore,ResNet,ISIC,2)#####\n",
      "[ 0.875 21.137]\n",
      "#####(FFTDSNTNet,ignore,ResNet,ISIC,3)#####\n",
      "[ 0.877 20.296]\n",
      "#####(FFTDSNTNet,ignore,ResNet,ISIC,4)#####\n",
      "[ 0.88  19.625]\n",
      "#####(FFTDSNTNet,ignore,DResNet50,0,ISIC)#####\n",
      "{'dice': 0.885, 'haus': 18.876}\n",
      "#####(FFTDSNTNet,ignore,DResNet50,1,ISIC)#####\n",
      "{'dice': 0.877, 'haus': 21.309}\n",
      "#####(FFTDSNTNet,ignore,DResNet50,ISIC,2)#####\n",
      "{'dice': 0.883, 'haus': 19.535}\n",
      "#####(FFTDSNTNet,ignore,DResNet50,ISIC,3)#####\n",
      "{'dice': 0.877, 'haus': 19.899}\n",
      "#####(FFTDSNTNet,ignore,DResNet50,ISIC,4)#####\n",
      "{'dice': 0.883, 'haus': 19.059}\n",
      "#####(FFTDSNTNet,ignore,DResNet26,0,ISIC)#####\n",
      "{'dice': 0.881, 'haus': 19.062}\n",
      "#####(FFTDSNTNet,ignore,DResNet26,1,ISIC)#####\n",
      "{'dice': 0.872, 'haus': 21.648}\n",
      "#####(FFTDSNTNet,ignore,DResNet26,ISIC,2)#####\n",
      "{'dice': 0.877, 'haus': 20.543}\n",
      "#####(FFTDSNTNet,ignore,DResNet26,ISIC,3)#####\n",
      "{'dice': 0.877, 'haus': 20.46}\n",
      "#####(FFTDSNTNet,ignore,DResNet26,ISIC,4)#####\n",
      "{'dice': 0.879, 'haus': 19.003}\n",
      "#####(FFTDSNTNet,ignore,0,DResNet105,ISIC)#####\n",
      "[ 0.884 19.495]\n",
      "#####(FFTDSNTNet,ignore,DResNet105,1,ISIC)#####\n",
      "[ 0.875 21.556]\n",
      "#####(FFTDSNTNet,ignore,DResNet105,ISIC,2)#####\n",
      "[ 0.884 19.877]\n",
      "#####(FFTDSNTNet,ignore,DResNet105,ISIC,3)#####\n",
      "[ 0.876 20.611]\n",
      "#####(FFTDSNTNet,ignore,DResNet105,ISIC,4)#####\n",
      "[ 0.881 19.096]\n",
      "#####(FFTDSNTNet,ignore,RIM_DISC,ResNet,0)#####\n",
      "[0.959 8.852]\n",
      "#####(FFTDSNTNet,ignore,RIM_DISC,DResNet26,0)#####\n",
      "[0.957 9.591]\n",
      "#####(FFTDSNTNet,ignore,RIM_DISC,DResNet50,0)#####\n",
      "[0.958 9.163]\n",
      "#####(FFTDSNTNet,ignore,RIM_DISC,0,DResNet105)#####\n",
      "[0.957 9.479]\n",
      "#####(FFTDSNTNet,ignore,ResNet,0,RIM_CUP)#####\n",
      "[ 0.767 18.148]\n",
      "#####(FFTDSNTNet,ignore,DResNet26,0,RIM_CUP)#####\n",
      "[ 0.773 18.073]\n",
      "#####(FFTDSNTNet,ignore,DResNet50,0,RIM_CUP)#####\n",
      "[ 0.779 17.424]\n",
      "#####(FFTDSNTNet,ignore,0,DResNet105,RIM_CUP)#####\n",
      "[ 0.771 17.743]\n",
      "#####(FFTDSNTNet,ignore,FETAL,ResNet,0)#####\n"
     ]
    },
    {
     "name": "stderr",
     "output_type": "stream",
     "text": [
      "100%|██████████| 199/199 [01:18<00:00,  2.53it/s]\n"
     ]
    },
    {
     "name": "stdout",
     "output_type": "stream",
     "text": [
      "(0.967, 6.249)\n",
      "#####(FFTDSNTNet,ignore,FETAL,ResNet,1)#####\n"
     ]
    },
    {
     "name": "stderr",
     "output_type": "stream",
     "text": [
      "100%|██████████| 199/199 [01:22<00:00,  2.43it/s]\n"
     ]
    },
    {
     "name": "stdout",
     "output_type": "stream",
     "text": [
      "(0.962, 7.511)\n",
      "#####(FFTDSNTNet,ignore,FETAL,ResNet,2)#####\n"
     ]
    },
    {
     "name": "stderr",
     "output_type": "stream",
     "text": [
      "100%|██████████| 199/199 [01:17<00:00,  2.56it/s]\n"
     ]
    },
    {
     "name": "stdout",
     "output_type": "stream",
     "text": [
      "(0.951, 9.697)\n",
      "#####(FFTDSNTNet,ignore,FETAL,ResNet,3)#####\n"
     ]
    },
    {
     "name": "stderr",
     "output_type": "stream",
     "text": [
      "100%|██████████| 199/199 [01:19<00:00,  2.50it/s]\n"
     ]
    },
    {
     "name": "stdout",
     "output_type": "stream",
     "text": [
      "(0.965, 7.034)\n",
      "#####(FFTDSNTNet,ignore,FETAL,ResNet,4)#####\n"
     ]
    },
    {
     "name": "stderr",
     "output_type": "stream",
     "text": [
      "100%|██████████| 203/203 [01:19<00:00,  2.55it/s]\n"
     ]
    },
    {
     "name": "stdout",
     "output_type": "stream",
     "text": [
      "(0.968, 6.842)\n",
      "#####(FFTDSNTNet,ignore,DResNet26,FETAL,0)#####\n"
     ]
    },
    {
     "name": "stderr",
     "output_type": "stream",
     "text": [
      "100%|██████████| 199/199 [01:17<00:00,  2.57it/s]\n"
     ]
    },
    {
     "name": "stdout",
     "output_type": "stream",
     "text": [
      "(0.97, 5.758)\n",
      "#####(FFTDSNTNet,ignore,DResNet26,FETAL,1)#####\n"
     ]
    },
    {
     "name": "stderr",
     "output_type": "stream",
     "text": [
      "100%|██████████| 199/199 [01:09<00:00,  2.85it/s]\n"
     ]
    },
    {
     "name": "stdout",
     "output_type": "stream",
     "text": [
      "(0.965, 7.086)\n",
      "#####(FFTDSNTNet,ignore,DResNet26,FETAL,2)#####\n"
     ]
    },
    {
     "name": "stderr",
     "output_type": "stream",
     "text": [
      "100%|██████████| 199/199 [01:23<00:00,  2.38it/s]\n"
     ]
    },
    {
     "name": "stdout",
     "output_type": "stream",
     "text": [
      "(0.968, 6.896)\n",
      "#####(FFTDSNTNet,ignore,DResNet26,FETAL,3)#####\n"
     ]
    },
    {
     "name": "stderr",
     "output_type": "stream",
     "text": [
      "100%|██████████| 199/199 [01:27<00:00,  2.28it/s]\n"
     ]
    },
    {
     "name": "stdout",
     "output_type": "stream",
     "text": [
      "(0.967, 6.759)\n",
      "#####(FFTDSNTNet,ignore,DResNet26,FETAL,4)#####\n"
     ]
    },
    {
     "name": "stderr",
     "output_type": "stream",
     "text": [
      "100%|██████████| 203/203 [01:31<00:00,  2.22it/s]\n"
     ]
    },
    {
     "name": "stdout",
     "output_type": "stream",
     "text": [
      "(0.971, 6.38)\n",
      "#####(FFTDSNTNet,ignore,DResNet50,FETAL,0)#####\n"
     ]
    },
    {
     "name": "stderr",
     "output_type": "stream",
     "text": [
      "100%|██████████| 199/199 [01:27<00:00,  2.29it/s]\n"
     ]
    },
    {
     "name": "stdout",
     "output_type": "stream",
     "text": [
      "(0.966, 6.48)\n",
      "#####(FFTDSNTNet,ignore,DResNet50,FETAL,1)#####\n"
     ]
    },
    {
     "name": "stderr",
     "output_type": "stream",
     "text": [
      "100%|██████████| 199/199 [01:20<00:00,  2.47it/s]\n"
     ]
    },
    {
     "name": "stdout",
     "output_type": "stream",
     "text": [
      "(0.962, 7.465)\n",
      "#####(FFTDSNTNet,ignore,DResNet50,FETAL,2)#####\n"
     ]
    },
    {
     "name": "stderr",
     "output_type": "stream",
     "text": [
      "100%|██████████| 199/199 [01:12<00:00,  2.76it/s]\n"
     ]
    },
    {
     "name": "stdout",
     "output_type": "stream",
     "text": [
      "(0.964, 7.573)\n",
      "#####(FFTDSNTNet,ignore,DResNet50,FETAL,3)#####\n"
     ]
    },
    {
     "name": "stderr",
     "output_type": "stream",
     "text": [
      "100%|██████████| 199/199 [01:39<00:00,  2.00it/s]\n"
     ]
    },
    {
     "name": "stdout",
     "output_type": "stream",
     "text": [
      "(0.965, 7.082)\n",
      "#####(FFTDSNTNet,ignore,DResNet50,FETAL,4)#####\n"
     ]
    },
    {
     "name": "stderr",
     "output_type": "stream",
     "text": [
      "100%|██████████| 203/203 [01:38<00:00,  2.06it/s]\n"
     ]
    },
    {
     "name": "stdout",
     "output_type": "stream",
     "text": [
      "(0.969, 6.808)\n",
      "#####(FFTDSNTNet,ignore,FETAL,0,DResNet105)#####\n"
     ]
    },
    {
     "name": "stderr",
     "output_type": "stream",
     "text": [
      "100%|██████████| 199/199 [01:15<00:00,  2.63it/s]\n"
     ]
    },
    {
     "name": "stdout",
     "output_type": "stream",
     "text": [
      "(0.971, 5.771)\n",
      "#####(FFTDSNTNet,ignore,FETAL,DResNet105,1)#####\n"
     ]
    },
    {
     "name": "stderr",
     "output_type": "stream",
     "text": [
      "100%|██████████| 199/199 [01:26<00:00,  2.30it/s]\n"
     ]
    },
    {
     "name": "stdout",
     "output_type": "stream",
     "text": [
      "(0.964, 7.051)\n",
      "#####(FFTDSNTNet,ignore,FETAL,DResNet105,2)#####\n"
     ]
    },
    {
     "name": "stderr",
     "output_type": "stream",
     "text": [
      "100%|██████████| 199/199 [01:22<00:00,  2.40it/s]\n"
     ]
    },
    {
     "name": "stdout",
     "output_type": "stream",
     "text": [
      "(0.967, 7.004)\n",
      "#####(FFTDSNTNet,ignore,FETAL,DResNet105,3)#####\n"
     ]
    },
    {
     "name": "stderr",
     "output_type": "stream",
     "text": [
      "100%|██████████| 199/199 [01:18<00:00,  2.54it/s]\n"
     ]
    },
    {
     "name": "stdout",
     "output_type": "stream",
     "text": [
      "(0.968, 6.645)\n",
      "#####(FFTDSNTNet,ignore,FETAL,DResNet105,4)#####\n"
     ]
    },
    {
     "name": "stderr",
     "output_type": "stream",
     "text": [
      "100%|██████████| 203/203 [01:29<00:00,  2.26it/s]\n"
     ]
    },
    {
     "name": "stdout",
     "output_type": "stream",
     "text": [
      "(0.972, 6.215)\n",
      "#####(FFTDSNTNet,ignore,ResNet,0,PROSTATE)#####\n"
     ]
    },
    {
     "name": "stderr",
     "output_type": "stream",
     "text": [
      "100%|██████████| 90/90 [00:04<00:00, 20.36it/s]\n"
     ]
    },
    {
     "name": "stdout",
     "output_type": "stream",
     "text": [
      "(0.81, 11.529)\n",
      "#####(FFTDSNTNet,ignore,ResNet,1,PROSTATE)#####\n"
     ]
    },
    {
     "name": "stderr",
     "output_type": "stream",
     "text": [
      "100%|██████████| 88/88 [00:03<00:00, 27.01it/s]\n"
     ]
    },
    {
     "name": "stdout",
     "output_type": "stream",
     "text": [
      "(0.803, 10.304)\n",
      "#####(FFTDSNTNet,ignore,ResNet,PROSTATE,2)#####\n"
     ]
    },
    {
     "name": "stderr",
     "output_type": "stream",
     "text": [
      "100%|██████████| 98/98 [00:03<00:00, 27.70it/s]\n"
     ]
    },
    {
     "name": "stdout",
     "output_type": "stream",
     "text": [
      "(0.791, 10.931)\n",
      "#####(FFTDSNTNet,ignore,ResNet,PROSTATE,3)#####\n"
     ]
    },
    {
     "name": "stderr",
     "output_type": "stream",
     "text": [
      "100%|██████████| 91/91 [00:03<00:00, 26.67it/s]\n"
     ]
    },
    {
     "name": "stdout",
     "output_type": "stream",
     "text": [
      "(0.789, 14.22)\n",
      "#####(FFTDSNTNet,ignore,ResNet,PROSTATE,4)#####\n"
     ]
    },
    {
     "name": "stderr",
     "output_type": "stream",
     "text": [
      "100%|██████████| 120/120 [00:04<00:00, 26.81it/s]\n"
     ]
    },
    {
     "name": "stdout",
     "output_type": "stream",
     "text": [
      "(0.799, 10.787)\n",
      "#####(FFTDSNTNet,ignore,DResNet26,0,PROSTATE)#####\n"
     ]
    },
    {
     "name": "stderr",
     "output_type": "stream",
     "text": [
      "100%|██████████| 90/90 [00:03<00:00, 23.15it/s]\n"
     ]
    },
    {
     "name": "stdout",
     "output_type": "stream",
     "text": [
      "(0.827, 10.708)\n",
      "#####(FFTDSNTNet,ignore,DResNet26,1,PROSTATE)#####\n"
     ]
    },
    {
     "name": "stderr",
     "output_type": "stream",
     "text": [
      "100%|██████████| 88/88 [00:03<00:00, 25.67it/s]\n"
     ]
    },
    {
     "name": "stdout",
     "output_type": "stream",
     "text": [
      "(0.78, 10.578)\n",
      "#####(FFTDSNTNet,ignore,DResNet26,PROSTATE,2)#####\n"
     ]
    },
    {
     "name": "stderr",
     "output_type": "stream",
     "text": [
      "100%|██████████| 98/98 [00:03<00:00, 31.33it/s]\n"
     ]
    },
    {
     "name": "stdout",
     "output_type": "stream",
     "text": [
      "(0.776, 11.928)\n",
      "#####(FFTDSNTNet,ignore,DResNet26,PROSTATE,3)#####\n"
     ]
    },
    {
     "name": "stderr",
     "output_type": "stream",
     "text": [
      "100%|██████████| 91/91 [00:03<00:00, 24.89it/s]\n"
     ]
    },
    {
     "name": "stdout",
     "output_type": "stream",
     "text": [
      "(0.774, 14.544)\n",
      "#####(FFTDSNTNet,ignore,DResNet26,PROSTATE,4)#####\n"
     ]
    },
    {
     "name": "stderr",
     "output_type": "stream",
     "text": [
      "100%|██████████| 120/120 [00:03<00:00, 30.91it/s]\n"
     ]
    },
    {
     "name": "stdout",
     "output_type": "stream",
     "text": [
      "(0.802, 10.923)\n",
      "#####(FFTDSNTNet,ignore,DResNet50,0,PROSTATE)#####\n"
     ]
    },
    {
     "name": "stderr",
     "output_type": "stream",
     "text": [
      "100%|██████████| 90/90 [00:04<00:00, 20.24it/s]\n"
     ]
    },
    {
     "name": "stdout",
     "output_type": "stream",
     "text": [
      "(0.822, 10.836)\n",
      "#####(FFTDSNTNet,ignore,DResNet50,1,PROSTATE)#####\n"
     ]
    },
    {
     "name": "stderr",
     "output_type": "stream",
     "text": [
      "100%|██████████| 88/88 [00:03<00:00, 25.38it/s]\n"
     ]
    },
    {
     "name": "stdout",
     "output_type": "stream",
     "text": [
      "(0.796, 10.675)\n",
      "#####(FFTDSNTNet,ignore,DResNet50,PROSTATE,2)#####\n"
     ]
    },
    {
     "name": "stderr",
     "output_type": "stream",
     "text": [
      "100%|██████████| 98/98 [00:03<00:00, 27.60it/s]\n"
     ]
    },
    {
     "name": "stdout",
     "output_type": "stream",
     "text": [
      "(0.781, 11.639)\n",
      "#####(FFTDSNTNet,ignore,DResNet50,PROSTATE,3)#####\n"
     ]
    },
    {
     "name": "stderr",
     "output_type": "stream",
     "text": [
      "100%|██████████| 91/91 [00:06<00:00, 15.04it/s]\n"
     ]
    },
    {
     "name": "stdout",
     "output_type": "stream",
     "text": [
      "(0.781, 13.213)\n",
      "#####(FFTDSNTNet,ignore,DResNet50,PROSTATE,4)#####\n"
     ]
    },
    {
     "name": "stderr",
     "output_type": "stream",
     "text": [
      "100%|██████████| 120/120 [00:04<00:00, 27.73it/s]\n"
     ]
    },
    {
     "name": "stdout",
     "output_type": "stream",
     "text": [
      "(0.791, 10.905)\n",
      "#####(FFTDSNTNet,ignore,0,DResNet105,PROSTATE)#####\n"
     ]
    },
    {
     "name": "stderr",
     "output_type": "stream",
     "text": [
      "100%|██████████| 90/90 [00:04<00:00, 20.39it/s]\n"
     ]
    },
    {
     "name": "stdout",
     "output_type": "stream",
     "text": [
      "(0.829, 10.274)\n",
      "#####(FFTDSNTNet,ignore,DResNet105,1,PROSTATE)#####\n"
     ]
    },
    {
     "name": "stderr",
     "output_type": "stream",
     "text": [
      "100%|██████████| 88/88 [00:04<00:00, 20.73it/s]\n"
     ]
    },
    {
     "name": "stdout",
     "output_type": "stream",
     "text": [
      "(0.802, 10.22)\n",
      "#####(FFTDSNTNet,ignore,DResNet105,PROSTATE,2)#####\n"
     ]
    },
    {
     "name": "stderr",
     "output_type": "stream",
     "text": [
      "100%|██████████| 98/98 [00:04<00:00, 21.13it/s]\n"
     ]
    },
    {
     "name": "stdout",
     "output_type": "stream",
     "text": [
      "(0.807, 10.887)\n",
      "#####(FFTDSNTNet,ignore,DResNet105,PROSTATE,3)#####\n"
     ]
    },
    {
     "name": "stderr",
     "output_type": "stream",
     "text": [
      "100%|██████████| 91/91 [00:04<00:00, 18.79it/s]\n"
     ]
    },
    {
     "name": "stdout",
     "output_type": "stream",
     "text": [
      "(0.782, 12.983)\n",
      "#####(FFTDSNTNet,ignore,DResNet105,PROSTATE,4)#####\n"
     ]
    },
    {
     "name": "stderr",
     "output_type": "stream",
     "text": [
      "100%|██████████| 120/120 [00:05<00:00, 20.87it/s]\n"
     ]
    },
    {
     "name": "stdout",
     "output_type": "stream",
     "text": [
      "(0.805, 10.635)\n",
      "#####(ignore,0,UNet,ISIC,standard)#####\n",
      "{'dice': 0.891, 'haus': 24.88}\n",
      "#####(ignore,1,UNet,ISIC,standard)#####\n",
      "{'dice': 0.888, 'haus': 26.278}\n",
      "#####(ignore,UNet,ISIC,2,standard)#####\n",
      "{'dice': 0.896, 'haus': 23.802}\n",
      "#####(ignore,UNet,ISIC,3,standard)#####\n",
      "{'dice': 0.885, 'haus': 25.967}\n",
      "#####(ignore,UNet,ISIC,4,standard)#####\n",
      "{'dice': 0.89, 'haus': 24.033}\n",
      "#####(ignore,plus,0,UNet,ISIC)#####\n",
      "{'dice': 0.891, 'haus': 22.905}\n",
      "#####(ignore,plus,1,UNet,ISIC)#####\n",
      "{'dice': 0.888, 'haus': 23.81}\n",
      "#####(ignore,plus,UNet,ISIC,2)#####\n",
      "{'dice': 0.894, 'haus': 23.7}\n",
      "#####(ignore,plus,UNet,ISIC,3)#####\n",
      "{'dice': 0.884, 'haus': 24.733}\n",
      "#####(ignore,plus,UNet,ISIC,4)#####\n",
      "{'dice': 0.889, 'haus': 25.172}\n",
      "#####(ignore,0,DeepLab,ISIC,standard)#####\n",
      "[ 0.896 21.189]\n",
      "#####(ignore,1,DeepLab,ISIC,standard)#####\n",
      "[ 0.895 22.689]\n",
      "#####(ignore,DeepLab,ISIC,2,standard)#####\n",
      "[ 0.9  19.63]\n",
      "#####(ignore,DeepLab,ISIC,3,standard)#####\n",
      "[ 0.891 20.548]\n",
      "#####(ignore,DeepLab,ISIC,4,standard)#####\n",
      "[ 0.895 19.917]\n",
      "#####(ignore,plus,0,DeepLab,ISIC)#####\n",
      "[ 0.897 20.604]\n",
      "#####(ignore,plus,1,DeepLab,ISIC)#####\n",
      "[ 0.896 21.494]\n",
      "#####(ignore,plus,DeepLab,ISIC,2)#####\n",
      "[ 0.901 19.545]\n",
      "#####(ignore,plus,DeepLab,ISIC,3)#####\n",
      "[ 0.894 21.669]\n",
      "#####(ignore,plus,DeepLab,ISIC,4)#####\n",
      "[ 0.895 20.67 ]\n",
      "#####(ignore,plus,DeepLab_lovasz,0,ISIC)#####\n",
      "[ 0.903 18.597]\n",
      "#####(ignore,plus,DeepLab_lovasz,1,ISIC)#####\n",
      "[ 0.894 21.418]\n",
      "#####(ignore,plus,DeepLab_lovasz,ISIC,2)#####\n",
      "[ 0.902 19.468]\n",
      "#####(ignore,plus,DeepLab_lovasz,ISIC,3)#####\n",
      "[ 0.893 22.37 ]\n",
      "#####(ignore,plus,DeepLab_lovasz,ISIC,4)#####\n",
      "[ 0.896 20.341]\n",
      "#####(TRANS,ISIC,0,ignore)#####\n",
      "[ 0.899 20.48 ]\n",
      "#####(TRANS,ISIC,1,ignore)#####\n",
      "[ 0.902 21.341]\n",
      "#####(2,TRANS,ISIC,ignore)#####\n",
      "[ 0.904 19.395]\n",
      "#####(TRANS,ISIC,3,ignore)#####\n",
      "[ 0.898 20.3  ]\n",
      "#####(TRANS,ISIC,ignore,4)#####\n",
      "[ 0.902 18.744]\n",
      "#####(TRANS,ISIC,0,ignore)#####\n",
      "[ 0.899 20.48 ]\n",
      "#####(TRANS,ISIC,1,ignore)#####\n",
      "[ 0.902 21.341]\n",
      "#####(2,TRANS,ISIC,ignore)#####\n",
      "[ 0.904 19.395]\n",
      "#####(TRANS,ISIC,3,ignore)#####\n",
      "[ 0.898 20.3  ]\n",
      "#####(TRANS,ISIC,ignore,4)#####\n",
      "[ 0.902 18.744]\n",
      "#####(ignore,RIM_DISC,0,UNet,standard)#####\n",
      "[ 0.959 10.781]\n",
      "#####(ignore,RIM_DISC,plus,0,UNet)#####\n",
      "[ 0.958 11.793]\n",
      "#####(ignore,RIM_DISC,0,DeepLab,standard)#####\n",
      "[ 0.959 10.92 ]\n",
      "#####(ignore,RIM_DISC,plus,0,DeepLab)#####\n",
      "[ 0.957 11.273]\n",
      "#####(ignore,RIM_DISC,plus,DeepLab_lovasz,0)#####\n",
      "[ 0.96  10.626]\n",
      "#####(TRANS,RIM_DISC,ignore,0)#####\n",
      "[ 0.959 10.95 ]\n",
      "#####(TRANS,RIM_DISC,ignore,0)#####\n",
      "[ 0.959 10.95 ]\n",
      "#####(ignore,0,UNet,RIM_CUP,standard)#####\n",
      "[ 0.782 22.348]\n",
      "#####(ignore,plus,0,UNet,RIM_CUP)#####\n",
      "[ 0.774 22.25 ]\n",
      "#####(ignore,0,DeepLab,RIM_CUP,standard)#####\n",
      "[ 0.772 21.694]\n",
      "#####(ignore,plus,0,DeepLab,RIM_CUP)#####\n",
      "[ 0.772 23.73 ]\n",
      "#####(ignore,plus,DeepLab_lovasz,0,RIM_CUP)#####\n",
      "[ 0.781 20.569]\n",
      "#####(TRANS,0,ignore,RIM_CUP)#####\n",
      "[ 0.78  18.984]\n",
      "#####(TRANS,0,ignore,RIM_CUP)#####\n",
      "[ 0.78  18.984]\n",
      "#####(ignore,FETAL,0,UNet,standard)#####\n"
     ]
    },
    {
     "name": "stderr",
     "output_type": "stream",
     "text": [
      "100%|██████████| 199/199 [00:49<00:00,  4.05it/s]\n"
     ]
    },
    {
     "name": "stdout",
     "output_type": "stream",
     "text": [
      "(0.972, 8.949)\n",
      "#####(ignore,FETAL,1,UNet,standard)#####\n"
     ]
    },
    {
     "name": "stderr",
     "output_type": "stream",
     "text": [
      "100%|██████████| 199/199 [00:48<00:00,  4.12it/s]\n"
     ]
    },
    {
     "name": "stdout",
     "output_type": "stream",
     "text": [
      "(0.967, 10.922)\n",
      "#####(ignore,FETAL,UNet,2,standard)#####\n"
     ]
    },
    {
     "name": "stderr",
     "output_type": "stream",
     "text": [
      "100%|██████████| 199/199 [00:53<00:00,  3.73it/s]\n"
     ]
    },
    {
     "name": "stdout",
     "output_type": "stream",
     "text": [
      "(0.97, 9.035)\n",
      "#####(ignore,FETAL,UNet,3,standard)#####\n"
     ]
    },
    {
     "name": "stderr",
     "output_type": "stream",
     "text": [
      "100%|██████████| 199/199 [01:04<00:00,  3.09it/s]\n"
     ]
    },
    {
     "name": "stdout",
     "output_type": "stream",
     "text": [
      "(0.97, 10.502)\n",
      "#####(ignore,FETAL,UNet,4,standard)#####\n"
     ]
    },
    {
     "name": "stderr",
     "output_type": "stream",
     "text": [
      "100%|██████████| 203/203 [00:51<00:00,  3.91it/s]\n"
     ]
    },
    {
     "name": "stdout",
     "output_type": "stream",
     "text": [
      "(0.973, 9.226)\n",
      "#####(ignore,plus,FETAL,0,UNet)#####\n"
     ]
    },
    {
     "name": "stderr",
     "output_type": "stream",
     "text": [
      "100%|██████████| 199/199 [00:54<00:00,  3.66it/s]\n"
     ]
    },
    {
     "name": "stdout",
     "output_type": "stream",
     "text": [
      "(0.973, 9.385)\n",
      "#####(ignore,plus,FETAL,1,UNet)#####\n"
     ]
    },
    {
     "name": "stderr",
     "output_type": "stream",
     "text": [
      "100%|██████████| 199/199 [00:54<00:00,  3.63it/s]\n"
     ]
    },
    {
     "name": "stdout",
     "output_type": "stream",
     "text": [
      "(0.968, 8.731)\n",
      "#####(ignore,plus,FETAL,UNet,2)#####\n"
     ]
    },
    {
     "name": "stderr",
     "output_type": "stream",
     "text": [
      "100%|██████████| 199/199 [00:49<00:00,  3.98it/s]\n"
     ]
    },
    {
     "name": "stdout",
     "output_type": "stream",
     "text": [
      "(0.97, 8.716)\n",
      "#####(ignore,plus,FETAL,UNet,3)#####\n"
     ]
    },
    {
     "name": "stderr",
     "output_type": "stream",
     "text": [
      "100%|██████████| 199/199 [01:02<00:00,  3.20it/s]\n"
     ]
    },
    {
     "name": "stdout",
     "output_type": "stream",
     "text": [
      "(0.97, 10.989)\n",
      "#####(ignore,plus,FETAL,UNet,4)#####\n"
     ]
    },
    {
     "name": "stderr",
     "output_type": "stream",
     "text": [
      "100%|██████████| 203/203 [00:47<00:00,  4.30it/s]\n"
     ]
    },
    {
     "name": "stdout",
     "output_type": "stream",
     "text": [
      "(0.973, 11.504)\n",
      "#####(ignore,FETAL,0,DeepLab,standard)#####\n"
     ]
    },
    {
     "name": "stderr",
     "output_type": "stream",
     "text": [
      "100%|██████████| 199/199 [01:07<00:00,  2.96it/s]\n"
     ]
    },
    {
     "name": "stdout",
     "output_type": "stream",
     "text": [
      "(0.977, 5.917)\n",
      "#####(ignore,FETAL,1,DeepLab,standard)#####\n"
     ]
    },
    {
     "name": "stderr",
     "output_type": "stream",
     "text": [
      "100%|██████████| 199/199 [01:09<00:00,  2.87it/s]\n"
     ]
    },
    {
     "name": "stdout",
     "output_type": "stream",
     "text": [
      "(0.972, 5.944)\n",
      "#####(ignore,FETAL,DeepLab,2,standard)#####\n"
     ]
    },
    {
     "name": "stderr",
     "output_type": "stream",
     "text": [
      "100%|██████████| 199/199 [01:14<00:00,  2.69it/s]\n"
     ]
    },
    {
     "name": "stdout",
     "output_type": "stream",
     "text": [
      "(0.973, 7.002)\n",
      "#####(ignore,FETAL,DeepLab,3,standard)#####\n"
     ]
    },
    {
     "name": "stderr",
     "output_type": "stream",
     "text": [
      "100%|██████████| 199/199 [01:21<00:00,  2.44it/s]\n"
     ]
    },
    {
     "name": "stdout",
     "output_type": "stream",
     "text": [
      "(0.973, 6.561)\n",
      "#####(ignore,FETAL,DeepLab,4,standard)#####\n"
     ]
    },
    {
     "name": "stderr",
     "output_type": "stream",
     "text": [
      "100%|██████████| 203/203 [01:15<00:00,  2.70it/s]\n"
     ]
    },
    {
     "name": "stdout",
     "output_type": "stream",
     "text": [
      "(0.975, 5.955)\n",
      "#####(ignore,plus,FETAL,0,DeepLab)#####\n"
     ]
    },
    {
     "name": "stderr",
     "output_type": "stream",
     "text": [
      "100%|██████████| 199/199 [01:01<00:00,  3.23it/s]\n"
     ]
    },
    {
     "name": "stdout",
     "output_type": "stream",
     "text": [
      "(0.976, 6.131)\n",
      "#####(ignore,plus,FETAL,1,DeepLab)#####\n"
     ]
    },
    {
     "name": "stderr",
     "output_type": "stream",
     "text": [
      "100%|██████████| 199/199 [01:10<00:00,  2.83it/s]\n"
     ]
    },
    {
     "name": "stdout",
     "output_type": "stream",
     "text": [
      "(0.971, 6.779)\n",
      "#####(ignore,plus,FETAL,DeepLab,2)#####\n"
     ]
    },
    {
     "name": "stderr",
     "output_type": "stream",
     "text": [
      "100%|██████████| 199/199 [01:01<00:00,  3.21it/s]\n"
     ]
    },
    {
     "name": "stdout",
     "output_type": "stream",
     "text": [
      "(0.973, 6.567)\n",
      "#####(ignore,plus,FETAL,DeepLab,3)#####\n"
     ]
    },
    {
     "name": "stderr",
     "output_type": "stream",
     "text": [
      "100%|██████████| 199/199 [01:21<00:00,  2.45it/s]\n"
     ]
    },
    {
     "name": "stdout",
     "output_type": "stream",
     "text": [
      "(0.973, 6.309)\n",
      "#####(ignore,plus,FETAL,DeepLab,4)#####\n"
     ]
    },
    {
     "name": "stderr",
     "output_type": "stream",
     "text": [
      "100%|██████████| 203/203 [01:20<00:00,  2.52it/s]\n"
     ]
    },
    {
     "name": "stdout",
     "output_type": "stream",
     "text": [
      "(0.975, 5.711)\n",
      "#####(ignore,plus,DeepLab_lovasz,FETAL,0)#####\n"
     ]
    },
    {
     "name": "stderr",
     "output_type": "stream",
     "text": [
      "100%|██████████| 199/199 [01:07<00:00,  2.95it/s]\n"
     ]
    },
    {
     "name": "stdout",
     "output_type": "stream",
     "text": [
      "(0.978, 5.612)\n",
      "#####(ignore,plus,DeepLab_lovasz,FETAL,1)#####\n"
     ]
    },
    {
     "name": "stderr",
     "output_type": "stream",
     "text": [
      "100%|██████████| 199/199 [01:10<00:00,  2.83it/s]\n"
     ]
    },
    {
     "name": "stdout",
     "output_type": "stream",
     "text": [
      "(0.972, 6.884)\n",
      "#####(ignore,plus,DeepLab_lovasz,FETAL,2)#####\n"
     ]
    },
    {
     "name": "stderr",
     "output_type": "stream",
     "text": [
      "100%|██████████| 199/199 [01:15<00:00,  2.65it/s]\n"
     ]
    },
    {
     "name": "stdout",
     "output_type": "stream",
     "text": [
      "(0.972, 6.883)\n",
      "#####(ignore,plus,DeepLab_lovasz,FETAL,3)#####\n"
     ]
    },
    {
     "name": "stderr",
     "output_type": "stream",
     "text": [
      "100%|██████████| 199/199 [01:32<00:00,  2.14it/s]\n"
     ]
    },
    {
     "name": "stdout",
     "output_type": "stream",
     "text": [
      "(0.974, 6.233)\n",
      "#####(ignore,plus,DeepLab_lovasz,FETAL,4)#####\n"
     ]
    },
    {
     "name": "stderr",
     "output_type": "stream",
     "text": [
      "100%|██████████| 203/203 [01:19<00:00,  2.57it/s]\n"
     ]
    },
    {
     "name": "stdout",
     "output_type": "stream",
     "text": [
      "(0.975, 5.778)\n",
      "#####(TRANS,0,ignore,FETAL)#####\n"
     ]
    },
    {
     "name": "stderr",
     "output_type": "stream",
     "text": [
      "100%|██████████| 199/199 [00:51<00:00,  3.83it/s]\n"
     ]
    },
    {
     "name": "stdout",
     "output_type": "stream",
     "text": [
      "(0.975, 6.662)\n",
      "#####(TRANS,1,ignore,FETAL)#####\n"
     ]
    },
    {
     "name": "stderr",
     "output_type": "stream",
     "text": [
      "100%|██████████| 199/199 [00:56<00:00,  3.51it/s]\n"
     ]
    },
    {
     "name": "stdout",
     "output_type": "stream",
     "text": [
      "(0.971, 6.636)\n",
      "#####(2,TRANS,ignore,FETAL)#####\n"
     ]
    },
    {
     "name": "stderr",
     "output_type": "stream",
     "text": [
      "100%|██████████| 199/199 [01:03<00:00,  3.15it/s]\n"
     ]
    },
    {
     "name": "stdout",
     "output_type": "stream",
     "text": [
      "(0.971, 6.959)\n",
      "#####(TRANS,3,ignore,FETAL)#####\n"
     ]
    },
    {
     "name": "stderr",
     "output_type": "stream",
     "text": [
      "100%|██████████| 199/199 [01:10<00:00,  2.81it/s]\n"
     ]
    },
    {
     "name": "stdout",
     "output_type": "stream",
     "text": [
      "(0.972, 7.287)\n",
      "#####(TRANS,4,ignore,FETAL)#####\n"
     ]
    },
    {
     "name": "stderr",
     "output_type": "stream",
     "text": [
      "100%|██████████| 203/203 [00:49<00:00,  4.07it/s]\n"
     ]
    },
    {
     "name": "stdout",
     "output_type": "stream",
     "text": [
      "(0.974, 6.779)\n",
      "#####(TRANS,0,ignore,FETAL)#####\n",
      "[0.975 6.662]\n",
      "#####(TRANS,1,ignore,FETAL)#####\n",
      "[0.971 6.636]\n",
      "#####(2,TRANS,ignore,FETAL)#####\n",
      "[0.971 6.959]\n",
      "#####(TRANS,3,ignore,FETAL)#####\n",
      "[0.972 7.287]\n",
      "#####(TRANS,4,ignore,FETAL)#####\n",
      "[0.974 6.779]\n",
      "#####(ignore,0,UNet,PROSTATE,standard)#####\n"
     ]
    },
    {
     "name": "stderr",
     "output_type": "stream",
     "text": [
      "100%|██████████| 90/90 [00:02<00:00, 30.13it/s]\n"
     ]
    },
    {
     "name": "stdout",
     "output_type": "stream",
     "text": [
      "(0.832, 9.907)\n",
      "#####(ignore,1,UNet,PROSTATE,standard)#####\n"
     ]
    },
    {
     "name": "stderr",
     "output_type": "stream",
     "text": [
      "100%|██████████| 88/88 [00:02<00:00, 31.69it/s]\n"
     ]
    },
    {
     "name": "stdout",
     "output_type": "stream",
     "text": [
      "(0.786, 13.492)\n",
      "#####(ignore,UNet,PROSTATE,2,standard)#####\n"
     ]
    },
    {
     "name": "stderr",
     "output_type": "stream",
     "text": [
      "100%|██████████| 98/98 [00:03<00:00, 31.56it/s]\n"
     ]
    },
    {
     "name": "stdout",
     "output_type": "stream",
     "text": [
      "(0.799, 16.79)\n",
      "#####(ignore,UNet,PROSTATE,3,standard)#####\n"
     ]
    },
    {
     "name": "stderr",
     "output_type": "stream",
     "text": [
      "100%|██████████| 91/91 [00:03<00:00, 28.91it/s]\n"
     ]
    },
    {
     "name": "stdout",
     "output_type": "stream",
     "text": [
      "(0.785, 19.486)\n",
      "#####(ignore,UNet,PROSTATE,4,standard)#####\n"
     ]
    },
    {
     "name": "stderr",
     "output_type": "stream",
     "text": [
      "100%|██████████| 120/120 [00:03<00:00, 32.12it/s]\n"
     ]
    },
    {
     "name": "stdout",
     "output_type": "stream",
     "text": [
      "(0.802, 13.499)\n",
      "#####(ignore,plus,0,UNet,PROSTATE)#####\n"
     ]
    },
    {
     "name": "stderr",
     "output_type": "stream",
     "text": [
      "100%|██████████| 90/90 [00:03<00:00, 22.60it/s]\n"
     ]
    },
    {
     "name": "stdout",
     "output_type": "stream",
     "text": [
      "(0.828, 12.528)\n",
      "#####(ignore,plus,1,UNet,PROSTATE)#####\n"
     ]
    },
    {
     "name": "stderr",
     "output_type": "stream",
     "text": [
      "100%|██████████| 88/88 [00:03<00:00, 24.29it/s]\n"
     ]
    },
    {
     "name": "stdout",
     "output_type": "stream",
     "text": [
      "(0.778, 14.266)\n",
      "#####(ignore,plus,UNet,PROSTATE,2)#####\n"
     ]
    },
    {
     "name": "stderr",
     "output_type": "stream",
     "text": [
      "100%|██████████| 98/98 [00:03<00:00, 24.75it/s]\n"
     ]
    },
    {
     "name": "stdout",
     "output_type": "stream",
     "text": [
      "(0.798, 16.957)\n",
      "#####(ignore,plus,UNet,PROSTATE,3)#####\n"
     ]
    },
    {
     "name": "stderr",
     "output_type": "stream",
     "text": [
      "100%|██████████| 91/91 [00:04<00:00, 22.49it/s]\n"
     ]
    },
    {
     "name": "stdout",
     "output_type": "stream",
     "text": [
      "(0.765, 14.235)\n",
      "#####(ignore,plus,UNet,PROSTATE,4)#####\n"
     ]
    },
    {
     "name": "stderr",
     "output_type": "stream",
     "text": [
      "100%|██████████| 120/120 [00:04<00:00, 24.09it/s]\n"
     ]
    },
    {
     "name": "stdout",
     "output_type": "stream",
     "text": [
      "(0.818, 12.942)\n",
      "#####(ignore,0,DeepLab,PROSTATE,standard)#####\n"
     ]
    },
    {
     "name": "stderr",
     "output_type": "stream",
     "text": [
      "100%|██████████| 90/90 [00:04<00:00, 21.65it/s]\n"
     ]
    },
    {
     "name": "stdout",
     "output_type": "stream",
     "text": [
      "(0.84, 9.778)\n",
      "#####(ignore,1,DeepLab,PROSTATE,standard)#####\n"
     ]
    },
    {
     "name": "stderr",
     "output_type": "stream",
     "text": [
      "100%|██████████| 88/88 [00:03<00:00, 24.75it/s]\n"
     ]
    },
    {
     "name": "stdout",
     "output_type": "stream",
     "text": [
      "(0.786, 14.038)\n",
      "#####(ignore,DeepLab,PROSTATE,2,standard)#####\n"
     ]
    },
    {
     "name": "stderr",
     "output_type": "stream",
     "text": [
      "100%|██████████| 98/98 [00:04<00:00, 24.36it/s]\n"
     ]
    },
    {
     "name": "stdout",
     "output_type": "stream",
     "text": [
      "(0.819, 11.102)\n",
      "#####(ignore,DeepLab,PROSTATE,3,standard)#####\n"
     ]
    },
    {
     "name": "stderr",
     "output_type": "stream",
     "text": [
      "100%|██████████| 91/91 [00:03<00:00, 23.10it/s]\n"
     ]
    },
    {
     "name": "stdout",
     "output_type": "stream",
     "text": [
      "(0.782, 16.107)\n",
      "#####(ignore,DeepLab,PROSTATE,4,standard)#####\n"
     ]
    },
    {
     "name": "stderr",
     "output_type": "stream",
     "text": [
      "100%|██████████| 120/120 [00:04<00:00, 25.01it/s]\n"
     ]
    },
    {
     "name": "stdout",
     "output_type": "stream",
     "text": [
      "(0.842, 10.852)\n",
      "#####(ignore,plus,0,DeepLab,PROSTATE)#####\n"
     ]
    },
    {
     "name": "stderr",
     "output_type": "stream",
     "text": [
      "100%|██████████| 90/90 [00:03<00:00, 22.71it/s]\n"
     ]
    },
    {
     "name": "stdout",
     "output_type": "stream",
     "text": [
      "(0.838, 9.225)\n",
      "#####(ignore,plus,1,DeepLab,PROSTATE)#####\n"
     ]
    },
    {
     "name": "stderr",
     "output_type": "stream",
     "text": [
      "100%|██████████| 88/88 [00:03<00:00, 24.16it/s]\n"
     ]
    },
    {
     "name": "stdout",
     "output_type": "stream",
     "text": [
      "(0.797, 14.102)\n",
      "#####(ignore,plus,DeepLab,PROSTATE,2)#####\n"
     ]
    },
    {
     "name": "stderr",
     "output_type": "stream",
     "text": [
      "100%|██████████| 98/98 [00:03<00:00, 24.89it/s]\n"
     ]
    },
    {
     "name": "stdout",
     "output_type": "stream",
     "text": [
      "(0.815, 11.195)\n",
      "#####(ignore,plus,DeepLab,PROSTATE,3)#####\n"
     ]
    },
    {
     "name": "stderr",
     "output_type": "stream",
     "text": [
      "100%|██████████| 91/91 [00:04<00:00, 20.11it/s]\n"
     ]
    },
    {
     "name": "stdout",
     "output_type": "stream",
     "text": [
      "(0.792, 19.339)\n",
      "#####(ignore,plus,DeepLab,PROSTATE,4)#####\n"
     ]
    },
    {
     "name": "stderr",
     "output_type": "stream",
     "text": [
      "100%|██████████| 120/120 [00:04<00:00, 25.32it/s]\n"
     ]
    },
    {
     "name": "stdout",
     "output_type": "stream",
     "text": [
      "(0.828, 10.291)\n",
      "#####(ignore,plus,DeepLab_lovasz,0,PROSTATE)#####\n"
     ]
    },
    {
     "name": "stderr",
     "output_type": "stream",
     "text": [
      "100%|██████████| 90/90 [00:04<00:00, 20.45it/s]\n"
     ]
    },
    {
     "name": "stdout",
     "output_type": "stream",
     "text": [
      "(0.833, 11.678)\n",
      "#####(ignore,plus,DeepLab_lovasz,1,PROSTATE)#####\n"
     ]
    },
    {
     "name": "stderr",
     "output_type": "stream",
     "text": [
      "100%|██████████| 88/88 [00:03<00:00, 24.03it/s]\n"
     ]
    },
    {
     "name": "stdout",
     "output_type": "stream",
     "text": [
      "(0.799, 10.654)\n",
      "#####(ignore,plus,DeepLab_lovasz,PROSTATE,2)#####\n"
     ]
    },
    {
     "name": "stderr",
     "output_type": "stream",
     "text": [
      "100%|██████████| 98/98 [00:03<00:00, 24.55it/s]\n"
     ]
    },
    {
     "name": "stdout",
     "output_type": "stream",
     "text": [
      "(0.809, 10.991)\n",
      "#####(ignore,plus,DeepLab_lovasz,PROSTATE,3)#####\n"
     ]
    },
    {
     "name": "stderr",
     "output_type": "stream",
     "text": [
      "100%|██████████| 91/91 [00:04<00:00, 20.55it/s]\n"
     ]
    },
    {
     "name": "stdout",
     "output_type": "stream",
     "text": [
      "(0.787, 15.105)\n",
      "#####(ignore,plus,DeepLab_lovasz,PROSTATE,4)#####\n"
     ]
    },
    {
     "name": "stderr",
     "output_type": "stream",
     "text": [
      "100%|██████████| 120/120 [00:04<00:00, 25.95it/s]\n"
     ]
    },
    {
     "name": "stdout",
     "output_type": "stream",
     "text": [
      "(0.845, 9.148)\n",
      "#####(ignore,PROSTATE,0,TRANS)#####\n"
     ]
    },
    {
     "name": "stderr",
     "output_type": "stream",
     "text": [
      "100%|██████████| 90/90 [00:05<00:00, 15.66it/s]\n"
     ]
    },
    {
     "name": "stdout",
     "output_type": "stream",
     "text": [
      "(0.812, 14.995)\n",
      "#####(ignore,PROSTATE,1,TRANS)#####\n"
     ]
    },
    {
     "name": "stderr",
     "output_type": "stream",
     "text": [
      "100%|██████████| 88/88 [00:05<00:00, 17.18it/s]\n"
     ]
    },
    {
     "name": "stdout",
     "output_type": "stream",
     "text": [
      "(0.801, 12.647)\n",
      "#####(ignore,PROSTATE,TRANS,2)#####\n"
     ]
    },
    {
     "name": "stderr",
     "output_type": "stream",
     "text": [
      "100%|██████████| 98/98 [00:05<00:00, 17.45it/s]\n"
     ]
    },
    {
     "name": "stdout",
     "output_type": "stream",
     "text": [
      "(0.827, 12.807)\n",
      "#####(ignore,PROSTATE,3,TRANS)#####\n"
     ]
    },
    {
     "name": "stderr",
     "output_type": "stream",
     "text": [
      "100%|██████████| 91/91 [00:05<00:00, 16.23it/s]\n"
     ]
    },
    {
     "name": "stdout",
     "output_type": "stream",
     "text": [
      "(0.766, 19.375)\n",
      "#####(ignore,PROSTATE,TRANS,4)#####\n"
     ]
    },
    {
     "name": "stderr",
     "output_type": "stream",
     "text": [
      "100%|██████████| 120/120 [00:06<00:00, 17.62it/s]"
     ]
    },
    {
     "name": "stdout",
     "output_type": "stream",
     "text": [
      "(0.832, 10.06)\n",
      "#####(ignore,PROSTATE,0,TRANS)#####\n",
      "[ 0.812 14.995]\n",
      "#####(ignore,PROSTATE,1,TRANS)#####\n",
      "[ 0.801 12.647]\n",
      "#####(ignore,PROSTATE,TRANS,2)#####\n",
      "[ 0.827 12.807]\n",
      "#####(ignore,PROSTATE,3,TRANS)#####\n",
      "[ 0.766 19.375]\n",
      "#####(ignore,PROSTATE,TRANS,4)#####\n",
      "[ 0.832 10.06 ]\n"
     ]
    },
    {
     "name": "stderr",
     "output_type": "stream",
     "text": [
      "\n"
     ]
    }
   ],
   "source": [
    "configs  = Dict()\n",
    "outcomes = Dict()\n",
    "# loadConfig & model\n",
    "for task, model, modelName, encoderName, fold  in instances:\n",
    "    \n",
    "    if model == \"TRANS\":\n",
    "        modelName   = \"ignore\"\n",
    "        encoderName = \"ignore\"\n",
    "\n",
    "    if (\"lovasz\" in model) and (modelName == \"standard\") :        \n",
    "        pass\n",
    "    \n",
    "    else :\n",
    "    \n",
    "        print(5*\"#\" + \"(\" + \",\".join({task, model, modelName, encoderName, fold}) + \")\" + \"#\"*5)\n",
    "\n",
    "        path = f'outcomes/{task}/{model}/{modelName}/{encoderName}/{fold}'\n",
    "        \n",
    "        if os.path.exists(path) :\n",
    "\n",
    "            outcome = np.load(f'{path}/outcome.npy', allow_pickle='TRUE')\n",
    "            outcomes[task][model][modelName][encoderName][fold] = outcome\n",
    "\n",
    "        else:\n",
    "\n",
    "            config, net = parse(task, model, modelName, encoderName, fold)\n",
    "\n",
    "            if \"FFT\" in config.model:\n",
    "                ckpt = torch.load(f\"{config.ckptPath}/{config.task}/{config.model}/{config.encoderName}/{config.fold}/ckpt.pt\")\n",
    "            elif \"TRANS\" in config.model :\n",
    "                ckpt = torch.load(f\"{config.ckptPath}/{config.task}/{config.model}/{config.modelName}/{config.fold}/ckpt.pt\")\n",
    "            else:\n",
    "                ckpt = torch.load(f\"{config.ckptPath}/{config.task}/{config.model}/{config.modelName}/{config.fold}/ckpt.pt\")\n",
    "                \n",
    "\n",
    "            net.load_state_dict(ckpt); net.eval(); net.cuda()\n",
    "\n",
    "            vis = visualisation(21, 71, config.inputSize)\n",
    "\n",
    "            dataLoader = MakeDataLoader(f\"{config.dataPath}/{config.task}/processed\",\n",
    "                                        inputSize = config.inputSize,\n",
    "                                        task      = config.task,\n",
    "                                        mode      = \"valid\",\n",
    "                                        fold      = int(config.fold),\n",
    "                                        maskType  = (\"fourier\", config.codeSize) if \"FFT\" in config.model else \"original\",\n",
    "                                        batchN    = 1, \n",
    "                                        cpuN      = config.cpuN,\n",
    "                                        augType   = config.augType)\n",
    "\n",
    "            if config.model == \"FFTDSNTNet\" :\n",
    "\n",
    "                temp = MakeDataLoader(f\"{config.dataPath}/{config.task}/processed\",\n",
    "                                      inputSize = config.inputSize,\n",
    "                                      task      = config.task,\n",
    "                                      mode      = \"valid\",\n",
    "                                      fold      = int(config.fold),\n",
    "                                      maskType  = (\"fourier\", config.codeSize) if \"FFT\" in config.model else \"original\",\n",
    "                                      batchN    = 1, \n",
    "                                      cpuN      = config.cpuN,\n",
    "                                      augType   = config.augType)\n",
    "\n",
    "                net.initialize_Scale(temp)        \n",
    "                #print(net.DSNT_Scale)\n",
    "\n",
    "            outcome = evaluate(net, dataLoader, vis, config)\n",
    "\n",
    "            outcomes[task][model][modelName][encoderName][fold] = outcome\n",
    "\n",
    "            # save the results\n",
    "            if not os.path.exists(path): os.makedirs(path)            \n",
    "            np.save(f'{path}/outcome.npy', outcome)        \n",
    "\n",
    "        print(outcome)"
   ]
  },
  {
   "cell_type": "code",
   "execution_count": 32,
   "metadata": {},
   "outputs": [],
   "source": [
    "aggFFT = Dict()\n",
    "\n",
    "for task in [\"PROSTATE\", \"FETAL\"]:\n",
    "    for model in [\"FFTDSNTNet\"]:\n",
    "        for encoderName in [\"ResNet\", \"DResNet26\", \"DResNet50\", \"DResNet105\"]:\n",
    "            \n",
    "            mean = lambda axis : lambda xs : np.around(np.mean(xs, axis = axis), 2)\n",
    "            std  = lambda axis : lambda xs : np.around(np.std(xs, axis = axis), 2)\n",
    "            \n",
    "            if task == \"ISIC\":\n",
    "                \n",
    "                try:\n",
    "                    dice, haus = map(np.array, zip(*[outcomes[task][model][\"ignore\"][encoderName][str(fold)].item().values() for fold in range(5)]))\n",
    "                except:\n",
    "                    dice, haus = map(np.array, zip(*[outcomes[task][model][\"ignore\"][encoderName][str(fold)] for fold in range(5)]))\n",
    "                    \n",
    "                aggFFT[task][model][encoderName][\"haus\"] = str(mean(None)(haus)) + \"\\pm\" + str(std(None)(haus))\n",
    "                aggFFT[task][model][encoderName][\"dice\"] = str(mean(None)(dice)) + \"\\pm\" + str(std(None)(dice))\n",
    "                \n",
    "            \n",
    "            else:                \n",
    "                \n",
    "                dice, haus = outcomes[task][model][\"ignore\"][encoderName][\"0\"]\n",
    "            \n",
    "                aggFFT[task][model][encoderName][\"haus\"] = haus         \n",
    "                aggFFT[task][model][encoderName][\"dice\"] = dice\n",
    "                \n",
    "                            \n",
    "aggED = Dict()\n",
    "\n",
    "for task in [\"PROSTATE\", \"FETAL\"]:\n",
    "    for model in [\"UNet\", \"DeepLab\", \"DeepLab_lovasz\", \"TRANS\"]:\n",
    "        for moddelName in [\"standard\", \"plus\"]:\n",
    "            \n",
    "            if model == \"TRANS\":\n",
    "                moddelName = \"ignore\"\n",
    "\n",
    "            if model == \"DeepLab_lovasz\":\n",
    "                moddelName = \"plus\"\n",
    "\n",
    "            mean = lambda axis : lambda xs : np.around(np.mean(xs, axis = axis), 2)\n",
    "            std  = lambda axis : lambda xs : np.around(np.std(xs, axis = axis), 2)\n",
    "\n",
    "            if task == \"ISIC\":\n",
    "                try:\n",
    "                    dice, haus = map(np.array, zip(*[outcomes[task][model][moddelName][\"ignore\"][str(fold)].item().values() for fold in range(5)]))\n",
    "                except:\n",
    "                    dice, haus = map(np.array, zip(*[outcomes[task][model][moddelName][\"ignore\"][str(fold)] for fold in range(5)]))\n",
    "\n",
    "                aggED[task][model][moddelName][\"haus\"] = str(mean(None)(haus)) + \"\\pm\" + str(std(None)(haus))\n",
    "                aggED[task][model][moddelName][\"dice\"] = str(mean(None)(dice)) + \"\\pm\" + str(std(None)(dice))\n",
    "\n",
    "            else:                \n",
    "\n",
    "                dice, haus = outcomes[task][model][moddelName][\"ignore\"][\"0\"]\n",
    "\n",
    "                aggED[task][model][moddelName][\"haus\"] = haus\n",
    "                aggED[task][model][moddelName][\"dice\"] = dice\n"
   ]
  },
  {
   "cell_type": "code",
   "execution_count": 33,
   "metadata": {},
   "outputs": [],
   "source": [
    "from prettyformatter import pprint"
   ]
  },
  {
   "cell_type": "code",
   "execution_count": 34,
   "metadata": {},
   "outputs": [
    {
     "name": "stdout",
     "output_type": "stream",
     "text": [
      "{\n",
      "    \"PROSTATE\":\n",
      "        {\n",
      "            \"FFTDSNTNet\":\n",
      "                {\n",
      "                    \"ResNet\"    : {\"haus\": 11.529, \"dice\": 0.81},\n",
      "                    \"DResNet26\" : {\"haus\": 10.708, \"dice\": 0.827},\n",
      "                    \"DResNet50\" : {\"haus\": 10.836, \"dice\": 0.822},\n",
      "                    \"DResNet105\": {\"haus\": 10.274, \"dice\": 0.829},\n",
      "                },\n",
      "        },\n",
      "    \"FETAL\":\n",
      "        {\n",
      "            \"FFTDSNTNet\":\n",
      "                {\n",
      "                    \"ResNet\"    : {\"haus\": 6.249, \"dice\": 0.967},\n",
      "                    \"DResNet26\" : {\"haus\": 5.758, \"dice\": 0.97},\n",
      "                    \"DResNet50\" : {\"haus\": 6.48, \"dice\": 0.966},\n",
      "                    \"DResNet105\": {\"haus\": 5.771, \"dice\": 0.971},\n",
      "                },\n",
      "        },\n",
      "}\n"
     ]
    }
   ],
   "source": [
    "pprint(aggFFT)"
   ]
  },
  {
   "cell_type": "code",
   "execution_count": 35,
   "metadata": {},
   "outputs": [
    {
     "name": "stdout",
     "output_type": "stream",
     "text": [
      "{\n",
      "    \"PROSTATE\":\n",
      "        {\n",
      "            \"UNet\":\n",
      "                {\"standard\": {\"haus\": 9.907, \"dice\": 0.832}, \"plus\": {\"haus\": 12.528, \"dice\": 0.828}},\n",
      "            \"DeepLab\":\n",
      "                {\"standard\": {\"haus\": 9.778, \"dice\": 0.84}, \"plus\": {\"haus\": 9.225, \"dice\": 0.838}},\n",
      "            \"DeepLab_lovasz\": {\"plus\": {\"haus\": 11.678, \"dice\": 0.833}},\n",
      "            \"TRANS\"     : {\"ignore\": {\"haus\": 14.995, \"dice\": 0.812}},\n",
      "        },\n",
      "    \"FETAL\":\n",
      "        {\n",
      "            \"UNet\":\n",
      "                {\"standard\": {\"haus\": 8.949, \"dice\": 0.972}, \"plus\": {\"haus\": 9.385, \"dice\": 0.973}},\n",
      "            \"DeepLab\":\n",
      "                {\"standard\": {\"haus\": 5.917, \"dice\": 0.977}, \"plus\": {\"haus\": 6.131, \"dice\": 0.976}},\n",
      "            \"DeepLab_lovasz\": {\"plus\": {\"haus\": 5.612, \"dice\": 0.978}},\n",
      "            \"TRANS\"     : {\"ignore\": {\"haus\": 6.662, \"dice\": 0.975}},\n",
      "        },\n",
      "}\n"
     ]
    }
   ],
   "source": [
    "pprint(aggED)"
   ]
  },
  {
   "cell_type": "code",
   "execution_count": null,
   "metadata": {},
   "outputs": [],
   "source": []
  }
 ],
 "metadata": {
  "kernelspec": {
   "display_name": "omop",
   "language": "python",
   "name": "omop"
  },
  "language_info": {
   "codemirror_mode": {
    "name": "ipython",
    "version": 3
   },
   "file_extension": ".py",
   "mimetype": "text/x-python",
   "name": "python",
   "nbconvert_exporter": "python",
   "pygments_lexer": "ipython3",
   "version": "3.7.2"
  },
  "vscode": {
   "interpreter": {
    "hash": "31f2aee4e71d21fbe5cf8b01ff0e069b9275f58929596ceb00d14d90e3e16cd6"
   }
  }
 },
 "nbformat": 4,
 "nbformat_minor": 4
}
